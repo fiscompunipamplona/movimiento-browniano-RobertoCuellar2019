{
 "cells": [
  {
   "cell_type": "code",
   "execution_count": null,
   "metadata": {},
   "outputs": [],
   "source": [
    "%%javascript\n",
    "MathJax.Hub.Config({\n",
    "    TeX: { equationNumbers: { autoNumber: \"AMS\" } }\n",
    "});\n"
   ]
  },
  {
   "cell_type": "markdown",
   "metadata": {},
   "source": [
    "Movimiento Aleatorio \n"
   ]
  },
  {
   "cell_type": "markdown",
   "metadata": {},
   "source": [
    "Existen diferentes formas de abordar el problema de movimientos aleatórios y cada uno conlleva a una interpretación física diferente. Se va a tratar un movimiento aleatório en busca de desarrollar un modelo para la difusión molecular (flujo neto de partículas de una región de mayor concentración a una de menor concentración). Se busca entonces plantear un modelo para una difusión normal (los pasos tienen un valor medio de cero, no existe retardos entre pasos ni colisión alguna, no se considera la velocidad de la partícula)."
   ]
  },
  {
   "cell_type": "markdown",
   "metadata": {},
   "source": [
    "En busca de este objetivo, además de las consideraciones anteriores, se considera que la dirección de cada paso es independiente de la direción del paso previo."
   ]
  },
  {
   "cell_type": "markdown",
   "metadata": {},
   "source": [
    "Se realizarán $N$ pasos en un plano $xy$ de longitudes y no de coordenadas."
   ]
  },
  {
   "cell_type": "markdown",
   "metadata": {},
   "source": [
    "\\begin{equation}\n",
    "(\\Delta x_{1},\\Delta y_{1}),~(\\Delta x_{2},\\Delta y_{2}),...,~(\\Delta x_{N},\\Delta y_{N})\n",
    "\\label{pasos}\n",
    "\\end{equation}\n",
    "Recordando que la distancia $R$ recorrida sobre el plano por la partícula, se escribe así:\n",
    "\\begin{equation*}\n",
    "R^{2}=(\\Delta x_{1}+\\Delta x_{2}+...+\\Delta x_{N})^{2}+ (\\Delta y_{1}+\\Delta y_{2}+...+\\Delta y_{N})^{2}\n",
    "\\end{equation*}\n",
    "\\begin{equation}\n",
    "R^{2}=\\Delta x_{1}^{2}+\\Delta x_{2}^{2}+...+\\Delta x_{N}^{2}+2\\Delta x_{1}\\Delta x_{2}+2\\Delta x_{1}\\Delta x_{3}+..\n",
    "\\label{r_cuadrado}\n",
    "\\end{equation}\n",
    "Si se toma el promedio de pasos para un número grande de pasos, todos los términos cruzados son casi cero, por lo tanto resulta que la distancia cuadrática media será:\n",
    "\\begin{equation*}\n",
    "R_{rms}^{2}=<\\Delta x_{1}^{2}+\\Delta x_{2}^{2}+...+\\Delta x_{N}^{2}+ \\Delta y_{1}^{2}+\\Delta y_{2}^{2}+...+\\Delta y_{N}^{2}>\n",
    "\\end{equation*}\n",
    "\\begin{equation*}\n",
    "R_{rms}^{2}=<\\Delta x_{1}^{2}+\\Delta y_{1}^{2}>+<\\Delta x_{2}^{2}+ \\Delta y_{2}^{2}>+...\n",
    "\\end{equation*}\n",
    "\\begin{equation*}\n",
    "R_{rms}^{2}=N<r^{2}>=Nr_{rms}^{2}\n",
    "\\end{equation*}\n",
    "\\begin{equation}\n",
    "R_{rms}=\\sqrt{N}r_{rms}\n",
    "\\end{equation}\n",
    "Donde $r_{rms}=\\sqrt{<r^{2}>}$ es el tamaño de paso cuadrático medio"
   ]
  },
  {
   "cell_type": "code",
   "execution_count": 1,
   "metadata": {},
   "outputs": [],
   "source": [
    "import numpy as np\n",
    "import matplotlib.pyplot as plt\n",
    "import random as rd"
   ]
  },
  {
   "cell_type": "markdown",
   "metadata": {},
   "source": [
    "Se realiza el movimiento aleatório para una única partícula."
   ]
  },
  {
   "cell_type": "code",
   "execution_count": null,
   "metadata": {
    "scrolled": true
   },
   "outputs": [],
   "source": [
    "# parámetros \n",
    "N = 2000 # número de pasos a realizar\n",
    "K = (N)**0.5\n",
    "#semilla = 3 # semilla para reproducibilidad\n",
    "#rd.seed(semilla) # se establece la semilla\n",
    "x = 0 # posición inicial en x\n",
    "y = 0 # posición inicial en y\n",
    "# variables para visualización \n",
    "xi = x\n",
    "yi = y\n",
    "cont = 0 # variable de conteo de pasos\n",
    "r_cuadrado = 0\n",
    "plt.figure(figsize = (6,6), dpi = 100)\n",
    "while(cont < N):\n",
    "    x += (rd.random()-0.5)*2 # el intervalo es -1 < = x < = 1 por efectos de normalización\n",
    "    y += (rd.random()-0.5)*2 # el intervalo es -1 < = y < = 1 por efectos de normalización\n",
    "    xf = x #variable de visualización\n",
    "    yf = y #variable de visualización\n",
    "    p_ini = [xi,xf] #punto inicial\n",
    "    p_fin = [yi,yf] #punto final\n",
    "    r_cuadrado += ((xf-xi)**2)+((yf-yi)**2)\n",
    "    plt.plot(p_ini,p_fin,color = 'red') # se grafíca la linea de punto inicial a punto final\n",
    "    # se actualiza la posición inicial\n",
    "    xi = xf \n",
    "    yi = yf\n",
    "    cont += 1 # un nuevo paso\n",
    "plt.grid(True)\n",
    "plt.title('Movimiento aleatorio para una partícula')\n",
    "plt.xlabel('x')\n",
    "plt.ylabel('y')\n",
    "plt.plot(xf,yf,'ob')\n",
    "plt.plot(0,0,'ob')\n",
    "plt.text(0,0.6,'Inicio')\n",
    "plt.text(xf,yf+0.5,'Fin')\n",
    "plt.arrow(0,0,xf,yf,head_width = 1, head_length = 1,length_includes_head = np.sqrt(xf**2+yf**2))\n",
    "valor_medio_rms = (r_cuadrado/N)**0.5\n",
    "r = ((xf**2)+(yf**2))**0.5\n",
    "n_sqrt = ((N)**0.5)*valor_medio_rms\n",
    "print('K = ',K)\n",
    "print('x final = ',xf, 'y final = ',yf)\n",
    "print('Desplazamiento total = ',r, 'Desplazamiento Rms  = ', n_sqrt)\n",
    "plt.show()\n",
    "\n"
   ]
  },
  {
   "cell_type": "markdown",
   "metadata": {},
   "source": [
    "Movimiento aleatório para diferentes partículas: "
   ]
  },
  {
   "cell_type": "code",
   "execution_count": null,
   "metadata": {},
   "outputs": [],
   "source": [
    "# parámetros \n",
    "N = 1000 # número de pasos a realizar\n",
    "semilla = 3 # semilla para reproducibilidad\n",
    "#rd.seed(semilla) # se establece la semilla\n",
    "## variables para la primera partícula\n",
    "x = 0 # posición inicial en x\n",
    "y = 0 # posición inicial en y\n",
    "# variables para visualización \n",
    "xi = x\n",
    "yi = y\n",
    "## variables para la segunda partícula\n",
    "x_1 = 0 # posición inicial en x\n",
    "y_1 = 0 # posición inicial en y\n",
    "# variables para visualización \n",
    "xi_1 = x_1\n",
    "yi_1 = y_1\n",
    "## variables para la tercera partícula\n",
    "x_2 = 0 # posición inicial en x\n",
    "y_2 = 0 # posición inicial en y\n",
    "# variables para visualización \n",
    "xi_2 = x_2\n",
    "yi_2 = y_2\n",
    "cont = 0 # variable de conteo de pasos\n",
    "plt.figure(figsize = (6,6), dpi = 100)\n",
    "while(cont < N):\n",
    "    # el intervalo es -1 < = x < = 1, por efectos de normalización\n",
    "    # pasos para las diferentes partículas\n",
    "    x += (rd.random()-0.5)*2 \n",
    "    y += (rd.random()-0.5)*2 \n",
    "    x_1 += (rd.random()-0.5)*2 \n",
    "    y_1 += (rd.random()-0.5)*2 \n",
    "    x_2 += (rd.random()-0.5)*2 \n",
    "    y_2 += (rd.random()-0.5)*2 \n",
    "    #actualización de la posición final para las diferentes partículas\n",
    "    xf = x\n",
    "    yf = y\n",
    "    xf_1 = x_1\n",
    "    yf_1 = y_1\n",
    "    xf_2 = x_2\n",
    "    yf_2 = y_2\n",
    "    # puntos para visualización de las trayectórias\n",
    "    p_ini = [xi,xf]\n",
    "    p_fin = [yi,yf]\n",
    "    p_ini_1 = [xi_1,xf_1]\n",
    "    p_fin_1 = [yi_1,yf_1]\n",
    "    p_ini_2 = [xi_2,xf_2]\n",
    "    p_fin_2 = [yi_2,yf_2]\n",
    "    # gráfico de trayectorias\n",
    "    plt.plot(p_ini,p_fin,color = 'red')\n",
    "    plt.plot(p_ini_1,p_fin_1,color = 'blue')\n",
    "    plt.plot(p_ini_2,p_fin_2,color = 'green')\n",
    "    # actualización de la posición inicial para las diferentes partículas\n",
    "    xi = xf\n",
    "    yi = yf\n",
    "    xi_1 = xf_1\n",
    "    yi_1 = yf_1\n",
    "    xi_2 = xf_2\n",
    "    yi_2 = yf_2\n",
    "    # un paso para todas\n",
    "    cont += 1\n",
    "plt.grid(True)\n",
    "plt.title('Movimiento aleatorio para 3 partículas partículas')\n",
    "plt.xlabel('x')\n",
    "plt.ylabel('y')\n",
    "plt.show()"
   ]
  },
  {
   "cell_type": "code",
   "execution_count": null,
   "metadata": {},
   "outputs": [
    {
     "name": "stdout",
     "output_type": "stream",
     "text": [
      "[10 22 31 44]\n"
     ]
    }
   ],
   "source": [
    "# parámetros \n",
    "N = np.array([100, 500, 1000, 2000]) # número de pasos a realizar\n",
    "K = N**0.5\n",
    "K = K.astype(int)\n",
    "semilla = 3 # semilla para reproducibilidad\n",
    "#rd.seed(semilla) # se establece la semilla\n",
    "x = 0 # posición inicial en x\n",
    "y = 0 # posición inicial en y\n",
    "# variables para visualización \n",
    "xi = x\n",
    "yi = y\n",
    "\n",
    "cont_1 = 0 # variable de conteo de repeticiones\n",
    "R_cuadrado = 0\n",
    "r_prom = []\n",
    "print(K)\n",
    "#plt.figure(figsize = (6,6), dpi = 100)\n",
    "for I in range(len(N)):\n",
    "    while(cont_1 < K[I]):\n",
    "        cont = 0 # variable de conteo de pasos\n",
    "        while(cont < N[I]):\n",
    "            x += (rd.random()-0.5)*2 # el intervalo es -1 < = x < = 1 por efectos de normalización\n",
    "            y += (rd.random()-0.5)*2 # el intervalo es -1 < = y < = 1 por efectos de normalización\n",
    "            xf = x #variable de visualización\n",
    "            yf = y #variable de visualización\n",
    "            p_ini = [xi,xf] #punto inicial\n",
    "            p_fin = [yi,yf] #punto final\n",
    "#        plt.plot(p_ini,p_fin,color = 'red') # se grafíca la linea de punto inicial a punto final\n",
    "#        # se actualiza la posición inicial\n",
    "            xi = xf \n",
    "            yi = yf\n",
    "        R += ((xf**2)+(yf**2))**0.5\n",
    "        cont_1 += 1\n",
    "    r_prom.append(R/K[I])\n",
    "print('R promedio = ',r_prom,'K = ',K)\n",
    "\n"
   ]
  }
 ],
 "metadata": {
  "kernelspec": {
   "display_name": "Python 3",
   "language": "python",
   "name": "python3"
  },
  "language_info": {
   "codemirror_mode": {
    "name": "ipython",
    "version": 3
   },
   "file_extension": ".py",
   "mimetype": "text/x-python",
   "name": "python",
   "nbconvert_exporter": "python",
   "pygments_lexer": "ipython3",
   "version": "3.6.8"
  }
 },
 "nbformat": 4,
 "nbformat_minor": 2
}
